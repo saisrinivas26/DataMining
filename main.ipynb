{
  "nbformat": 4,
  "nbformat_minor": 0,
  "metadata": {
    "colab": {
      "name": "main",
      "provenance": [],
      "collapsed_sections": []
    },
    "kernelspec": {
      "name": "python3",
      "display_name": "Python 3"
    },
    "language_info": {
      "name": "python"
    }
  },
  "cells": [
    {
      "cell_type": "code",
      "metadata": {
        "id": "_q2Y_3OSitWb",
        "colab": {
          "base_uri": "https://localhost:8080/"
        },
        "outputId": "21a48f3f-a277-4fd9-9030-0ffac54810fe"
      },
      "source": [
        "import numpy as np\n",
        "import pandas as pd\n",
        "import datetime\n",
        "\n",
        "# df = pd.read_csv ('CGMData.csv')\n",
        "# print(df)\n",
        "\n",
        "\n",
        "\n",
        "CGM_data_extractor = pd.read_csv('CGMData.csv')\n",
        "CGM_data_extractor.rename({'Sensor Glucose (mg/dL)': 'Gluco-(mg/dL)'}, axis=1, inplace=True)\n",
        " \n",
        "\n",
        "Insulin_data_extractor = pd.read_csv('InsulinData.csv')\n",
        "\n",
        "CGM_data_extractor['datetime'] = pd.to_datetime(CGM_data_extractor['Date']+\" \"+CGM_data_extractor['Time'])\n",
        "Insulin_data_extractor['datetime'] = pd.to_datetime(Insulin_data_extractor['Date']+\" \"+Insulin_data_extractor['Time'])\n",
        "\n",
        "\n",
        "auto_mode_info = Insulin_data_extractor[Insulin_data_extractor['Alarm']=='AUTO MODE ACTIVE PLGM OFF']\n",
        "\n",
        "\n",
        "auto_mode_time = auto_mode_info.iloc[-1]['datetime']\n",
        "\n",
        "# auto_mode_time = auto_mode_info.iloc[-1]['Time']\n",
        "\n",
        "# auto_mode_time = pd.to_datetime(str(auto_mode_da) +\" \"+str(auto_mode_tim))\n",
        "\n",
        "\n",
        "# print(CGM_data_extractor)\n",
        "# print(Insulin_data_extractor)\n",
        "print(auto_mode_time)\n",
        "\n",
        "\n",
        "CGM_auto_mode = CGM_data_extractor[CGM_data_extractor[\"datetime\"]>=auto_mode_time]\n",
        "CGM_manual_mode = CGM_data_extractor[CGM_data_extractor[\"datetime\"]<auto_mode_time]\n",
        "\n",
        "CGM_auto_mode.loc[\"Date\"] = pd.to_datetime(CGM_auto_mode[\"Date\"])\n",
        "CGM_auto_mode.loc[\"Time\"] = pd.to_datetime(CGM_auto_mode[\"Time\"])\n",
        "\n",
        "CGM_manual_mode.loc[\"Date\"] = pd.to_datetime(CGM_manual_mode[\"Date\"])\n",
        "CGM_manual_mode.loc[\"Time\"] = pd.to_datetime(CGM_manual_mode[\"Time\"])\n",
        "\n",
        "\n",
        "# print(CGM_auto_mode, CGM_manual_mode )\n",
        "\n",
        "\n",
        "\n",
        "CGM_auto_daytime = CGM_auto_mode[CGM_auto_mode['datetime'].dt.hour>=6].copy()\n",
        "CGM_auto_overnight = CGM_auto_mode[CGM_auto_mode['datetime'].dt.hour<6].copy()\n",
        "CGM_manual_daytime = CGM_manual_mode[CGM_manual_mode['datetime'].dt.hour>=6].copy()\n",
        "CGM_manual_overnight = CGM_manual_mode[CGM_manual_mode['datetime'].dt.hour<6].copy()\n",
        "\n",
        "\n",
        "\n",
        "\n",
        "def mean(dataset, days):\n",
        "    total = dataset.groupby(by='Date')['Time'].count()\n",
        "    if(len(total) == 0):\n",
        "      return 0.0 \n",
        "    summ = (total/288)*100\n",
        "    return (summ.sum()/days)\n",
        "\n",
        "\n",
        "\n",
        "manual = [CGM_manual_overnight, CGM_manual_daytime, CGM_manual_mode]\n",
        "auto = [CGM_auto_overnight, CGM_auto_daytime,  CGM_auto_mode]\n",
        "results =[[], []]\n",
        "\n",
        "\n",
        "\n",
        "\n",
        "def metricextractor(dataset, flag):\n",
        "  if flag == 'manual':\n",
        "    j = 0\n",
        "  else:\n",
        "    j = 1\n",
        "  for evaluating_data in dataset:\n",
        "      days = evaluating_data['Date'].nunique()\n",
        "      results[j].append(mean(evaluating_data[evaluating_data['Gluco-(mg/dL)']>180], days))\n",
        "      results[j].append(mean(evaluating_data[evaluating_data['Gluco-(mg/dL)']>250], days))\n",
        "      results[j].append(mean(evaluating_data[(evaluating_data['Gluco-(mg/dL)']>=70) & (evaluating_data['Gluco-(mg/dL)']<=180)], days))\n",
        "      results[j].append(mean(evaluating_data[(evaluating_data['Gluco-(mg/dL)']>=70) & (evaluating_data['Gluco-(mg/dL)']<=150)], days))\n",
        "      results[j].append(mean(evaluating_data[evaluating_data['Gluco-(mg/dL)']<70], days))\n",
        "      results[j].append(mean(evaluating_data[evaluating_data['Gluco-(mg/dL)']<54], days))\n",
        "  results[j].append(1.1)\n",
        "\n",
        "\n",
        "\n",
        "metricextractor(auto, \"auto\")\n",
        "metricextractor(manual, \"manual\")\n",
        "\n",
        "df = pd.DataFrame(results)\n",
        "print(results)\n",
        "\n",
        "df\n",
        "df.to_csv('Results.csv',index=False, header= False)"
      ],
      "execution_count": null,
      "outputs": [
        {
          "output_type": "stream",
          "name": "stderr",
          "text": [
            "/usr/local/lib/python3.7/dist-packages/IPython/core/interactiveshell.py:2718: DtypeWarning: Columns (32) have mixed types.Specify dtype option on import or set low_memory=False.\n",
            "  interactivity=interactivity, compiler=compiler, result=result)\n",
            "/usr/local/lib/python3.7/dist-packages/IPython/core/interactiveshell.py:2718: DtypeWarning: Columns (13,43) have mixed types.Specify dtype option on import or set low_memory=False.\n",
            "  interactivity=interactivity, compiler=compiler, result=result)\n"
          ]
        },
        {
          "output_type": "stream",
          "name": "stdout",
          "text": [
            "2017-08-09 08:07:13\n"
          ]
        },
        {
          "output_type": "stream",
          "name": "stderr",
          "text": [
            "/usr/local/lib/python3.7/dist-packages/pandas/core/indexing.py:670: SettingWithCopyWarning: \n",
            "A value is trying to be set on a copy of a slice from a DataFrame\n",
            "\n",
            "See the caveats in the documentation: https://pandas.pydata.org/pandas-docs/stable/user_guide/indexing.html#returning-a-view-versus-a-copy\n",
            "  iloc._setitem_with_indexer(indexer, value)\n"
          ]
        },
        {
          "output_type": "stream",
          "name": "stdout",
          "text": [
            "[[4.837962962962963, 1.0185185185185186, 18.240740740740744, 13.402777777777775, 0.6712962962962963, 0.0, 22.829861111111107, 8.463541666666666, 34.830729166666664, 27.105034722222225, 4.578993055555555, 1.8012152777777777, 27.365451388888886, 9.418402777777777, 51.93142361111111, 39.670138888888886, 5.208333333333333, 1.8012152777777777, 1.1], [2.600265293383271, 0.4057428214731585, 20.265683520599254, 17.68102372034956, 0.6300717852684145, 0.15215355805243444, 19.535108024691358, 4.560185185185185, 45.11574074074075, 33.80015432098765, 3.31983024691358, 0.9837962962962962, 22.10648148148148, 4.961419753086419, 65.15625, 51.28472222222222, 3.942901234567901, 1.1342592592592593, 1.1]]\n"
          ]
        }
      ]
    },
    {
      "cell_type": "markdown",
      "metadata": {
        "id": "uzjbv_CfT765"
      },
      "source": [
        "# New Section"
      ]
    }
  ]
}